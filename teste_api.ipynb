{
 "cells": [
  {
   "attachments": {},
   "cell_type": "markdown",
   "metadata": {},
   "source": [
    "### Demonstração da API\n",
    "\n",
    "Antes de testar as rotas nesse notebook é necessário rodar o arquivo [app.py](./src/app.py)"
   ]
  },
  {
   "cell_type": "code",
   "execution_count": 5,
   "metadata": {},
   "outputs": [],
   "source": [
    "import requests"
   ]
  },
  {
   "attachments": {},
   "cell_type": "markdown",
   "metadata": {},
   "source": [
    "**mensagem normal**"
   ]
  },
  {
   "cell_type": "code",
   "execution_count": 8,
   "metadata": {},
   "outputs": [
    {
     "name": "stdout",
     "output_type": "stream",
     "text": [
      "200\n",
      "{'mensagem': 'd_eg c3fs3jd'}\n"
     ]
    }
   ],
   "source": [
    "data = {'msg': 'testando api', 'chave': 60}\n",
    "response = requests.post('http://localhost:5000/enigma', json=data)\n",
    "print(response.status_code)\n",
    "print(response.json())"
   ]
  },
  {
   "cell_type": "code",
   "execution_count": 6,
   "metadata": {},
   "outputs": [
    {
     "name": "stdout",
     "output_type": "stream",
     "text": [
      "200\n",
      "{'mensagem': 'testando api'}\n"
     ]
    }
   ],
   "source": [
    "data = {'msg': 'd_eg c3fs3jd', 'chave': 60}\n",
    "response = requests.post('http://localhost:5000/de-enigma', json=data)\n",
    "print(response.status_code)\n",
    "print(response.json())"
   ]
  },
  {
   "attachments": {},
   "cell_type": "markdown",
   "metadata": {},
   "source": [
    "**mensagem com caracteres que não fazem parte do alfabeto**"
   ]
  },
  {
   "cell_type": "code",
   "execution_count": 9,
   "metadata": {},
   "outputs": [
    {
     "name": "stdout",
     "output_type": "stream",
     "text": [
      "200\n",
      "{'mensagem': ' 843a_b9de8wcj8hl0erq35678'}\n"
     ]
    }
   ],
   "source": [
    "data = {'msg': 'enigmalille@gmail.com &$[]', 'chave': 60}\n",
    "response = requests.post('http://localhost:5000/enigma', json=data)\n",
    "print(response.status_code)\n",
    "print(response.json())"
   ]
  },
  {
   "cell_type": "code",
   "execution_count": 10,
   "metadata": {},
   "outputs": [
    {
     "name": "stdout",
     "output_type": "stream",
     "text": [
      "200\n",
      "{'mensagem': 'enigmalille_gmail_com ____'}\n"
     ]
    }
   ],
   "source": [
    "data = {'msg': ' 843a_b9de8wcj8hl0erq35678', 'chave': 60}\n",
    "response = requests.post('http://localhost:5000/de-enigma', json=data)\n",
    "print(response.status_code)\n",
    "print(response.json())"
   ]
  },
  {
   "attachments": {},
   "cell_type": "markdown",
   "metadata": {},
   "source": [
    "**mensagem vazia**"
   ]
  },
  {
   "cell_type": "code",
   "execution_count": 15,
   "metadata": {},
   "outputs": [
    {
     "name": "stdout",
     "output_type": "stream",
     "text": [
      "200\n",
      "{'mensagem': ''}\n"
     ]
    }
   ],
   "source": [
    "data = {'msg': '', 'chave': 60}\n",
    "response = requests.post('http://localhost:5000/enigma', json=data)\n",
    "print(response.status_code)\n",
    "print(response.json())"
   ]
  },
  {
   "cell_type": "code",
   "execution_count": 16,
   "metadata": {},
   "outputs": [
    {
     "name": "stdout",
     "output_type": "stream",
     "text": [
      "200\n",
      "{'mensagem': ''}\n"
     ]
    }
   ],
   "source": [
    "data = {'msg': '', 'chave': 60}\n",
    "response = requests.post('http://localhost:5000/de-enigma', json=data)\n",
    "print(response.status_code)\n",
    "print(response.json())"
   ]
  }
 ],
 "metadata": {
  "kernelspec": {
   "display_name": "env",
   "language": "python",
   "name": "python3"
  },
  "language_info": {
   "codemirror_mode": {
    "name": "ipython",
    "version": 3
   },
   "file_extension": ".py",
   "mimetype": "text/x-python",
   "name": "python",
   "nbconvert_exporter": "python",
   "pygments_lexer": "ipython3",
   "version": "3.10.2"
  },
  "orig_nbformat": 4
 },
 "nbformat": 4,
 "nbformat_minor": 2
}
