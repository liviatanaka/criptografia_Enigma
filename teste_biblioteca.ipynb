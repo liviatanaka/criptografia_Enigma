{
 "cells": [
  {
   "attachments": {},
   "cell_type": "markdown",
   "metadata": {},
   "source": [
    "### Demonstração da biblioteca"
   ]
  },
  {
   "cell_type": "code",
   "execution_count": 1,
   "metadata": {},
   "outputs": [],
   "source": [
    "import enigmalille\n",
    "import numpy as np"
   ]
  },
  {
   "cell_type": "code",
   "execution_count": 2,
   "metadata": {},
   "outputs": [
    {
     "name": "stdout",
     "output_type": "stream",
     "text": [
      "mensagem de teste 01\n"
     ]
    }
   ],
   "source": [
    "matriz_one_hot = enigmalille.para_one_hot(\"mensagem de teste 01\")\n",
    "pos_one_hot = enigmalille.para_string(matriz_one_hot)\n",
    "print(pos_one_hot)\n"
   ]
  },
  {
   "cell_type": "code",
   "execution_count": 3,
   "metadata": {},
   "outputs": [
    {
     "name": "stdout",
     "output_type": "stream",
     "text": [
      "Mesagem cifrada: 9d_gr0d9 4d udgud nw\n",
      "Mesagem decifrada: mensagem de teste 02\n"
     ]
    }
   ],
   "source": [
    "P = np.random.permutation(np.identity(38))\n",
    "msg_cifrada = enigmalille.cifrar(\"mensagem de teste 02\", P)\n",
    "print(f\"Mesagem cifrada: {msg_cifrada}\")\n",
    "\n",
    "msg_decifrada = enigmalille.de_cifrar(msg_cifrada, P)\n",
    "print(f\"Mesagem decifrada: {msg_decifrada}\")"
   ]
  },
  {
   "cell_type": "code",
   "execution_count": 5,
   "metadata": {},
   "outputs": [
    {
     "name": "stdout",
     "output_type": "stream",
     "text": [
      "Mesagem cifrada com engima: 9hxk0w10exnfn2e2cy6j\n",
      "Mensagem decifrada com enigma: mensagem de teste 03\n"
     ]
    }
   ],
   "source": [
    "E = np.random.permutation(np.identity(38))\n",
    "msg_enigma = enigmalille.enigma(\"mensagem de teste 03\", P, E)\n",
    "print(f\"Mesagem cifrada com engima: {msg_enigma}\")\n",
    "\n",
    "msg_de_enigma = enigmalille.de_enigma(msg_enigma, P, E)\n",
    "print(f\"Mensagem decifrada com enigma: {msg_de_enigma}\")"
   ]
  },
  {
   "attachments": {},
   "cell_type": "markdown",
   "metadata": {},
   "source": [
    "**mensagem com caracteres que não fazem parte do alfabeto**"
   ]
  },
  {
   "cell_type": "code",
   "execution_count": 7,
   "metadata": {},
   "outputs": [
    {
     "name": "stdout",
     "output_type": "stream",
     "text": [
      "Mesagem cifrada com engima: 16rkbqsjhvhnu87x_sa3smh32na5g81\n",
      "Mensagem decifrada com enigma: caracteres estranhos_ _________\n"
     ]
    }
   ],
   "source": [
    "msg_enigma = enigmalille.enigma(\"caracteres estranhos: @¨&($*#_)\", P, E)\n",
    "print(f\"Mesagem cifrada com engima: {msg_enigma}\")\n",
    "\n",
    "msg_de_enigma = enigmalille.de_enigma(msg_enigma, P, E)\n",
    "print(f\"Mensagem decifrada com enigma: {msg_de_enigma}\")"
   ]
  },
  {
   "attachments": {},
   "cell_type": "markdown",
   "metadata": {},
   "source": [
    "**mensagem vazia**"
   ]
  },
  {
   "cell_type": "code",
   "execution_count": 9,
   "metadata": {},
   "outputs": [
    {
     "name": "stdout",
     "output_type": "stream",
     "text": [
      "Mesagem cifrada com engima: \n",
      "Mensagem decifrada com enigma: \n"
     ]
    }
   ],
   "source": [
    "msg_enigma = enigmalille.enigma(\"\", P, E)\n",
    "print(f\"Mesagem cifrada com engima: {msg_enigma}\")\n",
    "\n",
    "msg_de_enigma = enigmalille.de_enigma(msg_enigma, P, E)\n",
    "print(f\"Mensagem decifrada com enigma: {msg_de_enigma}\")"
   ]
  }
 ],
 "metadata": {
  "kernelspec": {
   "display_name": "env",
   "language": "python",
   "name": "python3"
  },
  "language_info": {
   "codemirror_mode": {
    "name": "ipython",
    "version": 3
   },
   "file_extension": ".py",
   "mimetype": "text/x-python",
   "name": "python",
   "nbconvert_exporter": "python",
   "pygments_lexer": "ipython3",
   "version": "3.10.2"
  },
  "orig_nbformat": 4
 },
 "nbformat": 4,
 "nbformat_minor": 2
}
